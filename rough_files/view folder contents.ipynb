{
 "cells": [
  {
   "cell_type": "code",
   "execution_count": 2,
   "id": "cc063ade",
   "metadata": {},
   "outputs": [
    {
     "data": {
      "text/plain": [
       "['GL Docs',\n",
       " 'GNU-Nano_Win32(static)',\n",
       " 'LangChain-Ice Breaker',\n",
       " 'Niva Bupa',\n",
       " 'petonic_DB',\n",
       " 'Telegram Desktop',\n",
       " 'Web Development Project']"
      ]
     },
     "execution_count": 2,
     "metadata": {},
     "output_type": "execute_result"
    }
   ],
   "source": [
    "import os\n",
    "\n",
    "def get_folder_names_in_path(directory):\n",
    "    try:\n",
    "        folder_names = [folder for folder in os.listdir(directory) if os.path.isdir(os.path.join(directory, folder))]\n",
    "        return folder_names\n",
    "    except Exception as e:\n",
    "        print(f\"An error occurred: {str(e)}\")\n",
    "        return []\n",
    "\n",
    "# Example usage:\n",
    "directory_path = \"C:\\\\Users\\\\JitendraNayak\\\\Downloads\"  # Specify the directory path here\n",
    "folder_names = get_folder_names_in_path(directory_path)\n",
    "# print(\"Folders in specified path:\")\n",
    "# for folder_name in folder_names:\n",
    "#     print(folder_name)\n",
    "folder_names"
   ]
  },
  {
   "cell_type": "code",
   "execution_count": 4,
   "id": "f735012c",
   "metadata": {},
   "outputs": [
    {
     "data": {
      "text/plain": [
       "['Telegram Desktop']"
      ]
     },
     "execution_count": 4,
     "metadata": {},
     "output_type": "execute_result"
    }
   ],
   "source": [
    "import os\n",
    "\n",
    "def get_folder_names_with_prefix(directory, prefix):\n",
    "    try:\n",
    "        folder_names = [folder for folder in os.listdir(directory) if os.path.isdir(os.path.join(directory, folder)) and folder.startswith(prefix)]\n",
    "        return folder_names\n",
    "    except Exception as e:\n",
    "        print(f\"An error occurred: {str(e)}\")\n",
    "        return []\n",
    "\n",
    "# Example usage:\n",
    "directory_path = \"C:\\\\Users\\\\JitendraNayak\\\\Downloads\"  # Specify the directory path here\n",
    "prefix = \"Tele\"  # Specify the prefix here\n",
    "folder_names = get_folder_names_with_prefix(directory_path, prefix)\n",
    "# print(f\"Folders in specified path starting with '{prefix}':\")\n",
    "# for folder_name in folder_names:\n",
    "#     print(folder_name)\n",
    "folder_names"
   ]
  },
  {
   "cell_type": "code",
   "execution_count": 7,
   "id": "1d113180",
   "metadata": {},
   "outputs": [
    {
     "data": {
      "text/plain": [
       "{'Telegram Desktop': ['DOC-20231220-WA0033._',\n",
       "  'Sampoorna Raksha Supreme (6).pdf',\n",
       "  'Sampoorna Raksha Supreme - 2024-01-12T133020.814.pdf']}"
      ]
     },
     "execution_count": 7,
     "metadata": {},
     "output_type": "execute_result"
    }
   ],
   "source": [
    "import os\n",
    "\n",
    "def get_folder_contents(directory, prefix=\"\"):\n",
    "    try:\n",
    "        folder_contents = {}\n",
    "        for folder in os.listdir(directory):\n",
    "            folder_path = os.path.join(directory, folder)\n",
    "            if os.path.isdir(folder_path) and folder.startswith(prefix):\n",
    "                contents = os.listdir(folder_path)\n",
    "                folder_contents[folder] = contents\n",
    "        return folder_contents\n",
    "    except Exception as e:\n",
    "        print(f\"An error occurred: {str(e)}\")\n",
    "        return {}\n",
    "\n",
    "# Example usage:\n",
    "directory_path = \"C:\\\\Users\\\\JitendraNayak\\\\Downloads\"  # Specify the directory path here\n",
    "prefix = \"Tele\"  # Specify the prefix here (optional)\n",
    "folders_with_contents = get_folder_contents(directory_path, prefix)\n",
    "# print(\"Folders and their contents:\")\n",
    "# for folder, contents in folders_with_contents.items():\n",
    "#     print(folder)\n",
    "#     for item in contents:\n",
    "#         print(f\"  - {item}\")\n",
    "folders_with_contents"
   ]
  },
  {
   "cell_type": "code",
   "execution_count": 8,
   "id": "2c0802a3",
   "metadata": {},
   "outputs": [
    {
     "name": "stdout",
     "output_type": "stream",
     "text": [
      "{\n",
      "    \"234_sumanta.biswas@petonic.in_0_1706418488.8508842\": [\n",
      "        \"dates - Copy.txt\",\n",
      "        \"dates.txt\",\n",
      "        \"Screenshot (8).png\"\n",
      "    ],\n",
      "    \"234_sumanta.biswas@petonic.in_0_1706418509.6145492\": [\n",
      "        \"dates - Copy.txt\",\n",
      "        \"dates.txt\",\n",
      "        \"Screenshot (8).png\"\n",
      "    ],\n",
      "    \"234_sumanta.biswas@petonic.in_0_1706418531.9632223\": [\n",
      "        \"dates - Copy.txt\",\n",
      "        \"dates.txt\",\n",
      "        \"Screenshot (8).png\"\n",
      "    ]\n",
      "}\n"
     ]
    }
   ],
   "source": [
    "import json\n",
    "import os\n",
    "\n",
    "def get_folder_contents(directory, prefix=\"\"):\n",
    "    try:\n",
    "        folder_contents = {}\n",
    "        for folder in os.listdir(directory):\n",
    "            folder_path = os.path.join(directory, folder)\n",
    "            if os.path.isdir(folder_path) and folder.startswith(prefix):\n",
    "                contents = os.listdir(folder_path)\n",
    "                folder_contents[folder] = contents\n",
    "        return folder_contents\n",
    "    except Exception as e:\n",
    "        print(f\"An error occurred: {str(e)}\")\n",
    "        return {}\n",
    "\n",
    "# Example usage:\n",
    "directory_path = \"C:\\\\Users\\\\JitendraNayak\\\\Downloads\\\\petonic_DB\\\\files\"  # Specify the directory path here\n",
    "prefix = \"234_sumanta.biswas@petonic.in\"  # Specify the prefix here (optional)\n",
    "folders_with_contents = get_folder_contents(directory_path, prefix)\n",
    "# print(\"Folders and their contents:\")\n",
    "# for folder, contents in folders_with_contents.items():\n",
    "#     print(folder)\n",
    "#     for item in contents:\n",
    "#         print(f\"  - {item}\")\n",
    "print(json.dumps(folders_with_contents,indent=4))"
   ]
  },
  {
   "cell_type": "code",
   "execution_count": 9,
   "id": "7d6d8e9d",
   "metadata": {},
   "outputs": [
    {
     "data": {
      "text/plain": [
       "1706418531.9632223"
      ]
     },
     "execution_count": 9,
     "metadata": {},
     "output_type": "execute_result"
    }
   ],
   "source": [
    "max(1706418488.8508842,1706418509.6145492,1706418531.9632223)"
   ]
  },
  {
   "cell_type": "code",
   "execution_count": 10,
   "id": "6931fc79",
   "metadata": {},
   "outputs": [
    {
     "data": {
      "text/plain": [
       "1706418488.8508842"
      ]
     },
     "execution_count": 10,
     "metadata": {},
     "output_type": "execute_result"
    }
   ],
   "source": [
    "min(1706418488.8508842,1706418509.6145492,1706418531.9632223)"
   ]
  },
  {
   "cell_type": "code",
   "execution_count": null,
   "id": "42669895",
   "metadata": {},
   "outputs": [],
   "source": [
    "{\n",
    "    \"234_sumanta.biswas@petonic.in_0_1706418488.8508842\": [\n",
    "        \"dates - Copy.txt\",\n",
    "        \"dates.txt\",\n",
    "        \"Screenshot (8).png\"\n",
    "    ],\n",
    "    \"234_sumanta.biswas@petonic.in_0_1706418509.6145492\": [\n",
    "        \"dates - Copy.txt\",\n",
    "        \"dates.txt\",\n",
    "        \"Screenshot (8).png\"\n",
    "    ],\n",
    "    \"234_sumanta.biswas@petonic.in_0_1706418531.9632223\": [\n",
    "        \"dates - Copy.txt\",\n",
    "        \"dates.txt\",\n",
    "        \"Screenshot (8).png\"\n",
    "    ]\n",
    "}"
   ]
  },
  {
   "cell_type": "code",
   "execution_count": 6,
   "id": "f602e4c6",
   "metadata": {},
   "outputs": [
    {
     "name": "stdout",
     "output_type": "stream",
     "text": [
      "Sorted folders and their contents:\n"
     ]
    }
   ],
   "source": [
    "import os\n",
    "\n",
    "def get_epoch_from_folder_name(folder_name):\n",
    "    return int(folder_name.rsplit(\"_\", 1)[-1])\n",
    "\n",
    "def get_folder_contents(directory, prefix=\"\"):\n",
    "    try:\n",
    "        folder_contents = {}\n",
    "        for folder in os.listdir(directory):\n",
    "            folder_path = os.path.join(directory, folder)\n",
    "            if os.path.isdir(folder_path) and folder.startswith(prefix):\n",
    "                contents = os.listdir(folder_path)\n",
    "                folder_contents[folder] = contents\n",
    "        return folder_contents\n",
    "    except Exception as e:\n",
    "        print(f\"An error occurred: {str(e)}\")\n",
    "        return {}\n",
    "\n",
    "# Example usage:\n",
    "directory_path = \"C:\\\\Users\\\\JitendraNayak\\\\Downloads\"  # Specify the directory path here\n",
    "prefix = \"prefix\"  # Specify the prefix here (optional)\n",
    "folders_with_contents = get_folder_contents(directory_path, prefix)\n",
    "\n",
    "# Sort the dictionary based on the time epoch in the keys\n",
    "sorted_folders_with_contents = {k: v for k, v in sorted(folders_with_contents.items(), key=lambda item: get_epoch_from_folder_name(item[0]), reverse=True)}\n",
    "\n",
    "print(\"Sorted folders and their contents:\")\n",
    "for folder, contents in sorted_folders_with_contents.items():\n",
    "    print(folder)\n",
    "    for item in contents:\n",
    "        print(f\"  - {item}\")\n"
   ]
  },
  {
   "cell_type": "code",
   "execution_count": 7,
   "id": "2d2c5406",
   "metadata": {},
   "outputs": [
    {
     "name": "stdout",
     "output_type": "stream",
     "text": [
      "An error occurred: [WinError 3] The system cannot find the path specified: 'C:\\\\Users\\\\JitendraNayak\\\\Downloads\\\\petonic_DB\\\\files'\n",
      "{}\n"
     ]
    }
   ],
   "source": [
    "import os\n",
    "import json\n",
    "def get_epoch_from_folder_name(folder_name):\n",
    "    return float(folder_name.rsplit(\"_\", 1)[-1])\n",
    "\n",
    "def get_folder_contents(directory, prefix=\"\"):\n",
    "    try:\n",
    "        folder_contents = {}\n",
    "        sorted_folder_contents = {}\n",
    "        for folder in os.listdir(directory):\n",
    "            folder_path = os.path.join(directory, folder)\n",
    "            if os.path.isdir(folder_path) and folder.startswith(prefix):\n",
    "                contents = os.listdir(folder_path)\n",
    "                folder_contents[folder] = contents\n",
    "        if folder_contents:\n",
    "            sorted_folder_contents = {k: v for k, v in sorted(folder_contents.items(), key=lambda item: get_epoch_from_folder_name(item[0]), reverse=True)}\n",
    "        return sorted_folder_contents\n",
    "    except Exception as e:\n",
    "        print(f\"An error occurred: {str(e)}\")\n",
    "        return {}\n",
    "\n",
    "directory_path = \"C:\\\\Users\\\\JitendraNayak\\\\Downloads\\\\petonic_DB\\\\files\"  # Specify the directory path here\n",
    "prefix = \"234_sumanta.biswas@petonic.in\"  # Specify the prefix here (optional)\n",
    "folders_with_contents = get_folder_contents(directory_path, prefix)\n",
    "# print(\"Folders and their contents:\")\n",
    "# for folder, contents in folders_with_contents.items():\n",
    "#     print(folder)\n",
    "#     for item in contents:\n",
    "#         print(f\"  - {item}\")\n",
    "print(json.dumps(folders_with_contents,indent=4))"
   ]
  },
  {
   "cell_type": "code",
   "execution_count": 2,
   "id": "2f0cbcb5",
   "metadata": {},
   "outputs": [
    {
     "data": {
      "text/plain": [
       "1"
      ]
     },
     "execution_count": 2,
     "metadata": {},
     "output_type": "execute_result"
    }
   ],
   "source": [
    "lst=[1]\n",
    "lst[-1]"
   ]
  },
  {
   "cell_type": "code",
   "execution_count": 3,
   "id": "141c831d",
   "metadata": {},
   "outputs": [
    {
     "ename": "IndexError",
     "evalue": "list index out of range",
     "output_type": "error",
     "traceback": [
      "\u001b[1;31m---------------------------------------------------------------------------\u001b[0m",
      "\u001b[1;31mIndexError\u001b[0m                                Traceback (most recent call last)",
      "Cell \u001b[1;32mIn[3], line 1\u001b[0m\n\u001b[1;32m----> 1\u001b[0m lst[\u001b[38;5;241m-\u001b[39m\u001b[38;5;241m2\u001b[39m]\n",
      "\u001b[1;31mIndexError\u001b[0m: list index out of range"
     ]
    }
   ],
   "source": [
    "lst[-2]"
   ]
  },
  {
   "cell_type": "code",
   "execution_count": null,
   "id": "931ab71e",
   "metadata": {},
   "outputs": [],
   "source": []
  }
 ],
 "metadata": {
  "kernelspec": {
   "display_name": "Python 3 (ipykernel)",
   "language": "python",
   "name": "python3"
  },
  "language_info": {
   "codemirror_mode": {
    "name": "ipython",
    "version": 3
   },
   "file_extension": ".py",
   "mimetype": "text/x-python",
   "name": "python",
   "nbconvert_exporter": "python",
   "pygments_lexer": "ipython3",
   "version": "3.11.5"
  }
 },
 "nbformat": 4,
 "nbformat_minor": 5
}
