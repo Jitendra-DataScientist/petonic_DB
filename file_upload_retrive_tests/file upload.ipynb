{
 "cells": [
  {
   "cell_type": "code",
   "execution_count": 1,
   "id": "efa4268a",
   "metadata": {},
   "outputs": [
    {
     "name": "stdout",
     "output_type": "stream",
     "text": [
      "C:\\Users\\JitendraNayak\\Desktop\n"
     ]
    },
    {
     "data": {
      "text/plain": [
       "'C:\\\\Users\\\\JitendraNayak\\\\Desktop'"
      ]
     },
     "execution_count": 1,
     "metadata": {},
     "output_type": "execute_result"
    }
   ],
   "source": [
    "import os\n",
    "current_directory = os.getcwd()\n",
    "print(current_directory)\n",
    "current_directory"
   ]
  },
  {
   "cell_type": "code",
   "execution_count": 2,
   "id": "f5f03fdb",
   "metadata": {},
   "outputs": [
    {
     "name": "stdout",
     "output_type": "stream",
     "text": [
      "new_directory: C:\\Users\\JitendraNayak\\Desktop/..\n",
      "Updated Working Directory: C:\\Users\\JitendraNayak\n"
     ]
    },
    {
     "data": {
      "text/plain": [
       "'C:\\\\Users\\\\JitendraNayak'"
      ]
     },
     "execution_count": 2,
     "metadata": {},
     "output_type": "execute_result"
    }
   ],
   "source": [
    "new_directory = current_directory + '/..'\n",
    "print(\"new_directory:\", new_directory)\n",
    "os.chdir(new_directory)\n",
    "\n",
    "# Verify the change\n",
    "updated_directory = os.getcwd()\n",
    "print(\"Updated Working Directory:\", updated_directory)\n",
    "updated_directory"
   ]
  },
  {
   "cell_type": "code",
   "execution_count": 3,
   "id": "6763330e",
   "metadata": {},
   "outputs": [
    {
     "name": "stdout",
     "output_type": "stream",
     "text": [
      "new_directory: C:\\Users\\JitendraNayak\\Desktop/../Desktop\n",
      "Updated Working Directory: C:\\Users\\JitendraNayak\\Desktop\n"
     ]
    },
    {
     "data": {
      "text/plain": [
       "'C:\\\\Users\\\\JitendraNayak\\\\Desktop'"
      ]
     },
     "execution_count": 3,
     "metadata": {},
     "output_type": "execute_result"
    }
   ],
   "source": [
    "new_directory = new_directory + '/Desktop'\n",
    "print(\"new_directory:\", new_directory)\n",
    "os.chdir(new_directory)\n",
    "\n",
    "# Verify the change\n",
    "updated_directory = os.getcwd()\n",
    "print(\"Updated Working Directory:\", updated_directory)\n",
    "updated_directory"
   ]
  },
  {
   "cell_type": "code",
   "execution_count": 4,
   "id": "e3478073",
   "metadata": {},
   "outputs": [
    {
     "name": "stdout",
     "output_type": "stream",
     "text": [
      "Current Working Directory: C:\\Users\\JitendraNayak\\Desktop\n",
      "new_directory: C:\\Users\\JitendraNayak\\Desktop/../Desktop\n",
      "C:\\Users\\JitendraNayak\\Desktop/../Desktop/files\n",
      "Updated Working Directory: C:\\Users\\JitendraNayak\\Desktop\\files\n"
     ]
    },
    {
     "data": {
      "text/plain": [
       "'C:\\\\Users\\\\JitendraNayak\\\\Desktop\\\\files'"
      ]
     },
     "execution_count": 4,
     "metadata": {},
     "output_type": "execute_result"
    }
   ],
   "source": [
    "print(\"Current Working Directory:\", updated_directory)\n",
    "print(\"new_directory:\", new_directory)\n",
    "new_directory = new_directory + '/files'\n",
    "print (new_directory)\n",
    "try:\n",
    "    os.chdir(new_directory)\n",
    "except FileNotFoundError:\n",
    "    os.mkdir(new_directory)\n",
    "    os.chdir(new_directory)\n",
    "\n",
    "# Verify the change\n",
    "updated_directory = os.getcwd()\n",
    "print(\"Updated Working Directory:\", updated_directory)\n",
    "updated_directory"
   ]
  },
  {
   "cell_type": "code",
   "execution_count": 5,
   "id": "010e92db",
   "metadata": {},
   "outputs": [
    {
     "name": "stdout",
     "output_type": "stream",
     "text": [
      "The directory 'C:\\Users\\JitendraNayak\\Desktop' exists.\n"
     ]
    }
   ],
   "source": [
    "if os.path.exists(current_directory):\n",
    "    print(f\"The directory '{current_directory}' exists.\")\n",
    "else:\n",
    "    print(f\"The directory '{current_directory}' does not exist.\")"
   ]
  },
  {
   "cell_type": "code",
   "execution_count": 6,
   "id": "5eb3aa0d",
   "metadata": {},
   "outputs": [
    {
     "name": "stdout",
     "output_type": "stream",
     "text": [
      "Files and folders in the current directory:\n",
      "files\n"
     ]
    }
   ],
   "source": [
    "# Get the current working directory\n",
    "current_directory = os.getcwd()\n",
    "\n",
    "# Get the list of files and folders in the current directory\n",
    "entries = os.listdir(current_directory)\n",
    "\n",
    "# Print the list\n",
    "print(\"Files and folders in the current directory:\")\n",
    "for entry in entries:\n",
    "    print(entry)"
   ]
  },
  {
   "cell_type": "code",
   "execution_count": 7,
   "id": "45bd73f9",
   "metadata": {},
   "outputs": [
    {
     "name": "stdout",
     "output_type": "stream",
     "text": [
      "Files and folders in the current directory:\n",
      "Directory: files\n"
     ]
    }
   ],
   "source": [
    "# Get the current working directory\n",
    "current_directory = os.getcwd()\n",
    "\n",
    "# Get the list of files and folders in the current directory\n",
    "entries = os.listdir(current_directory)\n",
    "\n",
    "# Print the list with distinction between files and folders\n",
    "print(\"Files and folders in the current directory:\")\n",
    "for entry in entries:\n",
    "    full_path = os.path.join(current_directory, entry)\n",
    "    if os.path.isdir(full_path):\n",
    "        print(f\"Directory: {entry}\")\n",
    "    else:\n",
    "        print(f\"File: {entry}\")"
   ]
  },
  {
   "cell_type": "markdown",
   "id": "1e9403bd",
   "metadata": {},
   "source": [
    "# 2nd rough below"
   ]
  },
  {
   "cell_type": "code",
   "execution_count": 21,
   "id": "dbc047fb",
   "metadata": {},
   "outputs": [
    {
     "name": "stdout",
     "output_type": "stream",
     "text": [
      "C:\\Users\\JitendraNayak\\Desktop\\files\n",
      "['C:', 'Users', 'JitendraNayak', 'Desktop', 'files']\n",
      "False\n"
     ]
    }
   ],
   "source": [
    "import os\n",
    "current_directory = os.getcwd()\n",
    "print(current_directory)\n",
    "current_directory_split = current_directory.split('\\\\')\n",
    "print(current_directory_split)\n",
    "print(current_directory_split[-1] != 'files')"
   ]
  },
  {
   "cell_type": "code",
   "execution_count": 22,
   "id": "cbff749b",
   "metadata": {},
   "outputs": [
    {
     "name": "stdout",
     "output_type": "stream",
     "text": [
      "Updated Working Directory: C:\\Users\\JitendraNayak\\Desktop\\files\n"
     ]
    },
    {
     "data": {
      "text/plain": [
       "'C:\\\\Users\\\\JitendraNayak\\\\Desktop\\\\files'"
      ]
     },
     "execution_count": 22,
     "metadata": {},
     "output_type": "execute_result"
    }
   ],
   "source": [
    "if current_directory_split[-1] != 'files':\n",
    "    new_directory = current_directory + '/files'\n",
    "    print (new_directory)\n",
    "    if os.path.exists(new_directory):\n",
    "        os.chdir(new_directory)\n",
    "        print(f\"The directory '{new_directory}' exists.\")\n",
    "    else:\n",
    "        os.mkdir(new_directory)\n",
    "        os.chdir(new_directory)\n",
    "        print(f\"The directory '{new_directory}' exists.\")\n",
    "\n",
    "# Verify the change\n",
    "updated_directory = os.getcwd()\n",
    "print(\"Updated Working Directory:\", updated_directory)\n",
    "updated_directory"
   ]
  },
  {
   "cell_type": "code",
   "execution_count": 6,
   "id": "cebe0c05",
   "metadata": {},
   "outputs": [
    {
     "name": "stdout",
     "output_type": "stream",
     "text": [
      "['kukur', 'kukur - Copy', 'kukur - Copy.txt', 'kukur.txt']\n",
      "\n",
      "\n",
      "Files and folders in the current directory:\n",
      "Directory: kukur\n",
      "Directory: kukur - Copy\n",
      "File: kukur - Copy.txt\n",
      "File: kukur.txt\n"
     ]
    }
   ],
   "source": [
    "# Get the current working directory\n",
    "current_directory = os.getcwd()\n",
    "\n",
    "# Get the list of files and folders in the current directory\n",
    "entries = os.listdir(current_directory)\n",
    "print (f\"{entries}\\n\\n\")\n",
    "# Print the list with distinction between files and folders\n",
    "print(\"Files and folders in the current directory:\")\n",
    "for entry in entries:\n",
    "    full_path = os.path.join(current_directory, entry)\n",
    "    if os.path.isdir(full_path):\n",
    "        print(f\"Directory: {entry}\")\n",
    "    else:\n",
    "        print(f\"File: {entry}\")"
   ]
  },
  {
   "cell_type": "code",
   "execution_count": 7,
   "id": "794f96ea",
   "metadata": {},
   "outputs": [],
   "source": [
    "## contributor-id _ challenge-id _ current-epoch"
   ]
  },
  {
   "cell_type": "code",
   "execution_count": 4,
   "id": "a64daf9f",
   "metadata": {},
   "outputs": [
    {
     "ename": "FileExistsError",
     "evalue": "[WinError 183] Cannot create a file when that file already exists: 'C:\\\\Users\\\\JitendraNayak\\\\Desktop\\\\files'",
     "output_type": "error",
     "traceback": [
      "\u001b[1;31m---------------------------------------------------------------------------\u001b[0m",
      "\u001b[1;31mFileExistsError\u001b[0m                           Traceback (most recent call last)",
      "Cell \u001b[1;32mIn[4], line 2\u001b[0m\n\u001b[0;32m      1\u001b[0m \u001b[38;5;28;01mimport\u001b[39;00m \u001b[38;5;21;01mos\u001b[39;00m\n\u001b[1;32m----> 2\u001b[0m os\u001b[38;5;241m.\u001b[39mmkdir(\u001b[38;5;124mr\u001b[39m\u001b[38;5;124m\"\u001b[39m\u001b[38;5;124mC:\u001b[39m\u001b[38;5;124m\\\u001b[39m\u001b[38;5;124mUsers\u001b[39m\u001b[38;5;124m\\\u001b[39m\u001b[38;5;124mJitendraNayak\u001b[39m\u001b[38;5;124m\\\u001b[39m\u001b[38;5;124mDesktop\u001b[39m\u001b[38;5;124m\\\u001b[39m\u001b[38;5;124mfiles\u001b[39m\u001b[38;5;124m\"\u001b[39m)\n",
      "\u001b[1;31mFileExistsError\u001b[0m: [WinError 183] Cannot create a file when that file already exists: 'C:\\\\Users\\\\JitendraNayak\\\\Desktop\\\\files'"
     ]
    }
   ],
   "source": [
    "import os\n",
    "os.mkdir(r\"C:\\Users\\JitendraNayak\\Desktop\\files\")"
   ]
  },
  {
   "cell_type": "code",
   "execution_count": 6,
   "id": "4dcecc81",
   "metadata": {},
   "outputs": [
    {
     "name": "stdout",
     "output_type": "stream",
     "text": [
      "1706088237.491495\n"
     ]
    }
   ],
   "source": [
    "import time\n",
    "\n",
    "current_epoch = time.time()\n",
    "print(current_epoch)\n"
   ]
  }
 ],
 "metadata": {
  "kernelspec": {
   "display_name": "Python 3 (ipykernel)",
   "language": "python",
   "name": "python3"
  },
  "language_info": {
   "codemirror_mode": {
    "name": "ipython",
    "version": 3
   },
   "file_extension": ".py",
   "mimetype": "text/x-python",
   "name": "python",
   "nbconvert_exporter": "python",
   "pygments_lexer": "ipython3",
   "version": "3.11.5"
  }
 },
 "nbformat": 4,
 "nbformat_minor": 5
}
